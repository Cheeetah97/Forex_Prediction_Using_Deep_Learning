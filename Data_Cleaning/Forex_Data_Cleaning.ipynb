{
 "cells": [
  {
   "cell_type": "code",
   "execution_count": 6,
   "metadata": {},
   "outputs": [],
   "source": [
    "import pandas as pd\n",
    "import numpy as np\n",
    "\n",
    "data_path = \"M:/Dissertation/Data/\""
   ]
  },
  {
   "cell_type": "markdown",
   "metadata": {},
   "source": [
    "##### **Reading the Data and Selecting Columns**"
   ]
  },
  {
   "cell_type": "code",
   "execution_count": 7,
   "metadata": {},
   "outputs": [],
   "source": [
    "data = pd.read_csv(data_path+\"Forex_Data(Raw).csv\")\n",
    "data = data.drop([\"XAU/GBP\",\"XAU/EUR\"],axis=1)\n",
    "data = data.rename(columns={\"XAUUSD\":\"XAU/USD\"})"
   ]
  },
  {
   "cell_type": "markdown",
   "metadata": {},
   "source": [
    "##### **Resampling the data from Minute to Hour**"
   ]
  },
  {
   "cell_type": "code",
   "execution_count": 8,
   "metadata": {},
   "outputs": [],
   "source": [
    "# Breaking down the Date column in components\n",
    "data[\"Date\"] = pd.to_datetime(data[\"Date\"],format=\"%Y-%m-%d %H:%M:%S\")\n",
    "data[\"Year\"] = data[\"Date\"].dt.year\n",
    "data[\"Month\"] = data[\"Date\"].dt.month\n",
    "data[\"Day\"] = data[\"Date\"].dt.day\n",
    "data[\"Hour\"] = data[\"Date\"].dt.hour\n",
    "\n",
    "# Groupby w.r.t Hour\n",
    "data = data.groupby(by=[\"Year\",\"Month\",\"Day\",\"Hour\"],as_index=False)[['EUR/USD','EUR/GBP','GBP/USD','XAU/USD']].mean()\n",
    "\n",
    "# Reconstruct the Date column\n",
    "data[\"Date\"] = pd.to_datetime(data[\"Year\"].astype(str)+\"-\"+\n",
    "                              data[\"Month\"].astype(str)+\"-\"+\n",
    "                              data[\"Day\"].astype(str)+\" \"+\n",
    "                              data[\"Hour\"].astype(str)+\":00:00\",format=\"%Y-%m-%d %H:%M:%S\")\n",
    "\n",
    "# Save Hourly Data\n",
    "data[['Date','EUR/USD','EUR/GBP','GBP/USD','XAU/USD']].to_csv(data_path+\"Forex_Data(Hourly).csv\",index=False)"
   ]
  },
  {
   "cell_type": "markdown",
   "metadata": {},
   "source": [
    "##### **Removing the Large shifts in Prices**"
   ]
  },
  {
   "cell_type": "code",
   "execution_count": 9,
   "metadata": {},
   "outputs": [
    {
     "name": "stdout",
     "output_type": "stream",
     "text": [
      "The Mean Hourly Difference before adjustment in EUR/USD is -4.81e-06\n",
      "Percentage of Adjusted Data Points in EUR/USD is 1.43 %\n",
      "The Mean Hourly Difference after adjustment in EUR/USD is -5.04e-06 \n",
      "\n",
      "The Mean Hourly Difference before adjustment in EUR/GBP is 8.74e-07\n",
      "Percentage of Adjusted Data Points in EUR/GBP is 1.94 %\n",
      "The Mean Hourly Difference after adjustment in EUR/GBP is 9.69e-08 \n",
      "\n",
      "The Mean Hourly Difference before adjustment in GBP/USD is -7.35e-06\n",
      "Percentage of Adjusted Data Points in GBP/USD is 1.75 %\n",
      "The Mean Hourly Difference after adjustment in GBP/USD is -6.33e-06 \n",
      "\n",
      "The Mean Hourly Difference before adjustment in XAU/USD is -4.13e-03\n",
      "Percentage of Adjusted Data Points in XAU/USD is 5.48 %\n",
      "The Mean Hourly Difference after adjustment in XAU/USD is -7.08e-03 \n",
      "\n"
     ]
    }
   ],
   "source": [
    "# Iterating over each currency\n",
    "for col in ['EUR/USD','EUR/GBP','GBP/USD','XAU/USD']:\n",
    "    print(f\"The Mean Hourly Difference before adjustment in {col} is {data[col].diff(1).mean():.2e}\")\n",
    "    counter = 0\n",
    "    \n",
    "    # Setting thresholds using mean of history\n",
    "    for i in range(len(data)-1,2,-1):\n",
    "        prev = data[col].iloc[:i]\n",
    "        thr = 0.0025*np.mean(prev)\n",
    "        dif = data[col].iloc[i]-data[col].iloc[i-1]\n",
    "        if (dif >= thr) or (dif <= -thr):\n",
    "            counter += 1\n",
    "            if dif > 0:\n",
    "                data.loc[:i-1, col] += dif - (thr)\n",
    "            else:\n",
    "                data.loc[:i-1, col] += dif + (thr)\n",
    "\n",
    "    # Calculating Price Returns and Lags\n",
    "    data[col+\"_R\"] = (data[col].shift(-1)/data[col])-1\n",
    "    data[col+\"_T\"] = data[col].shift(-1)\n",
    "    \n",
    "    # Printing the Statistics before and after adjustment\n",
    "    print(f\"Percentage of Adjusted Data Points in {col} is {(counter/len(data))*100:.2f} %\")\n",
    "    print(f\"The Mean Hourly Difference after adjustment in {col} is {data[col].diff(1).mean():.2e} \\n\")\n",
    "\n",
    "# Saving the Data\n",
    "data[['Date','EUR/USD','EUR/GBP','GBP/USD','XAU/USD',\n",
    "      'EUR/USD_T','EUR/GBP_T','GBP/USD_T','XAU/USD_T',\n",
    "      'EUR/USD_R','EUR/GBP_R','GBP/USD_R','XAU/USD_R']].to_csv(data_path+\"Forex_Data.csv\",index=False)"
   ]
  }
 ],
 "metadata": {
  "kernelspec": {
   "display_name": "base",
   "language": "python",
   "name": "python3"
  },
  "language_info": {
   "codemirror_mode": {
    "name": "ipython",
    "version": 3
   },
   "file_extension": ".py",
   "mimetype": "text/x-python",
   "name": "python",
   "nbconvert_exporter": "python",
   "pygments_lexer": "ipython3",
   "version": "3.10.9"
  },
  "orig_nbformat": 4
 },
 "nbformat": 4,
 "nbformat_minor": 2
}
